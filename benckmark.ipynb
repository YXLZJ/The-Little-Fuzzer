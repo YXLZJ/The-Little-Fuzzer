{
 "cells": [
  {
   "cell_type": "code",
   "execution_count": 1,
   "metadata": {},
   "outputs": [],
   "source": [
    "import time\n",
    "import subprocess\n",
    "import matplotlib.pyplot as plt\n",
    "import psutil\n",
    "import os\n",
    "import re\n",
    "import threading\n",
    "import csv\n"
   ]
  },
  {
   "cell_type": "code",
   "execution_count": 2,
   "metadata": {},
   "outputs": [],
   "source": [
    "programs = [\"./build/fuzzer\",\"./build/vmfuzzer\"]"
   ]
  },
  {
   "cell_type": "code",
   "execution_count": 3,
   "metadata": {},
   "outputs": [
    {
     "name": "stdout",
     "output_type": "stream",
     "text": [
      "['math.json', 'recursive.json', 'simple_grammar.json', 'css.json', 'html.json']\n"
     ]
    }
   ],
   "source": [
    "directory = './grammars'\n",
    "files = os.listdir(directory)\n",
    "print(files)\n"
   ]
  },
  {
   "cell_type": "code",
   "execution_count": 4,
   "metadata": {},
   "outputs": [],
   "source": [
    "depth = [1,2,4,8,16,32,64,128,256,512,1024,2048]"
   ]
  },
  {
   "cell_type": "code",
   "execution_count": 5,
   "metadata": {},
   "outputs": [],
   "source": [
    "#process = subprocess.Popen([programs[0],\"-depth\",\"2048\", \"-path\", \"./grammars/html.json\", \"-o\", \"html.c\"],stderr=subprocess.PIPE,stdout=subprocess.PIPE)"
   ]
  },
  {
   "cell_type": "code",
   "execution_count": 6,
   "metadata": {},
   "outputs": [
    {
     "ename": "KeyboardInterrupt",
     "evalue": "",
     "output_type": "error",
     "traceback": [
      "\u001b[0;31m---------------------------------------------------------------------------\u001b[0m",
      "\u001b[0;31mKeyboardInterrupt\u001b[0m                         Traceback (most recent call last)",
      "Cell \u001b[0;32mIn[6], line 36\u001b[0m\n\u001b[1;32m     34\u001b[0m monitor_thread \u001b[38;5;241m=\u001b[39m threading\u001b[38;5;241m.\u001b[39mThread(target\u001b[38;5;241m=\u001b[39mmonitor_process, args\u001b[38;5;241m=\u001b[39m(process, timeout))\n\u001b[1;32m     35\u001b[0m monitor_thread\u001b[38;5;241m.\u001b[39mstart()\n\u001b[0;32m---> 36\u001b[0m \u001b[43mread_output\u001b[49m\u001b[43m(\u001b[49m\u001b[43mprocess\u001b[49m\u001b[43m)\u001b[49m\n\u001b[1;32m     37\u001b[0m monitor_thread\u001b[38;5;241m.\u001b[39mjoin()\n\u001b[1;32m     38\u001b[0m \u001b[38;5;28;01mif\u001b[39;00m throughput_rates:\n",
      "Cell \u001b[0;32mIn[6], line 9\u001b[0m, in \u001b[0;36mread_output\u001b[0;34m(process)\u001b[0m\n\u001b[1;32m      7\u001b[0m \u001b[38;5;28;01mglobal\u001b[39;00m throughput_rates\n\u001b[1;32m      8\u001b[0m \u001b[38;5;28;01mwhile\u001b[39;00m \u001b[38;5;28;01mTrue\u001b[39;00m:\n\u001b[0;32m----> 9\u001b[0m     output \u001b[38;5;241m=\u001b[39m process\u001b[38;5;241m.\u001b[39mstdout\u001b[38;5;241m.\u001b[39mreadline()\n\u001b[1;32m     10\u001b[0m     \u001b[38;5;28;01mif\u001b[39;00m process\u001b[38;5;241m.\u001b[39mpoll() \u001b[38;5;129;01mis\u001b[39;00m \u001b[38;5;129;01mnot\u001b[39;00m \u001b[38;5;28;01mNone\u001b[39;00m \u001b[38;5;129;01mand\u001b[39;00m output \u001b[38;5;241m==\u001b[39m \u001b[38;5;124mb\u001b[39m\u001b[38;5;124m'\u001b[39m\u001b[38;5;124m'\u001b[39m:\n\u001b[1;32m     11\u001b[0m         \u001b[38;5;28;01mbreak\u001b[39;00m\n",
      "\u001b[0;31mKeyboardInterrupt\u001b[0m: "
     ]
    }
   ],
   "source": [
    "throughput_rates = []\n",
    "def monitor_process(process, timeout):\n",
    "    time.sleep(timeout)\n",
    "    process.kill()\n",
    "\n",
    "def read_output(process):\n",
    "    global throughput_rates\n",
    "    while True:\n",
    "        output = process.stdout.readline()\n",
    "        if process.poll() is not None and output == b'':\n",
    "            break\n",
    "        if output:\n",
    "            match = re.search(r'Throughput Rate:\\s*([\\d.]+)\\s*MB/s', output.decode('utf-8'))\n",
    "            if match:\n",
    "                throughput_rate = float(match.group(1))\n",
    "                throughput_rates.append(throughput_rate)\n",
    "\n",
    "result = {}\n",
    "timeout = 600  # 10 minutes\n",
    "for i in range(len(programs)):\n",
    "    program_name = programs[i]\n",
    "    result[program_name] = {}\n",
    "    for j in range(len(files)):\n",
    "        file_name = files[j]\n",
    "        result[program_name][file_name] = {}\n",
    "        for k in range(len(depth)):\n",
    "            print(\"{} {} {}:start\".format(program_name, file_name, depth[k]))\n",
    "            depth_value = depth[k]\n",
    "            throughput_rates = []\n",
    "            process = subprocess.Popen(\n",
    "                [programs[i], \"-depth\", str(depth[k]), \"-path\", \"./grammars/\" + files[j], \"-o\", \"output.c\"],\n",
    "                stderr=subprocess.PIPE,\n",
    "                stdout=subprocess.PIPE\n",
    "            )\n",
    "            monitor_thread = threading.Thread(target=monitor_process, args=(process, timeout))\n",
    "            monitor_thread.start()\n",
    "            read_output(process)\n",
    "            monitor_thread.join()\n",
    "            if throughput_rates:\n",
    "                avg_throughput_rate = sum(throughput_rates) / len(throughput_rates)\n",
    "            else:\n",
    "                avg_throughput_rate = 0\n",
    "            result[program_name][file_name][depth_value] = avg_throughput_rate\n",
    "            print(program_name, file_name, depth_value, avg_throughput_rate)\n",
    "\n",
    "print(result)"
   ]
  },
  {
   "cell_type": "code",
   "execution_count": null,
   "metadata": {},
   "outputs": [],
   "source": [
    "with open('results.csv', mode='w', newline='') as file:\n",
    "    writer = csv.writer(file)\n",
    "    writer.writerow(['Program', 'File', 'Depth', 'Average Throughput Rate (MB/s)'])\n",
    "    for program_name, files_dict in result.items():\n",
    "        for file_name, depths_dict in files_dict.items():\n",
    "            for depth_value, avg_throughput_rate in depths_dict.items():\n",
    "                writer.writerow([program_name, file_name, depth_value, avg_throughput_rate])\n",
    "\n",
    "print(\"Results have been written to results.csv\")"
   ]
  }
 ],
 "metadata": {
  "kernelspec": {
   "display_name": "Python 3",
   "language": "python",
   "name": "python3"
  },
  "language_info": {
   "codemirror_mode": {
    "name": "ipython",
    "version": 3
   },
   "file_extension": ".py",
   "mimetype": "text/x-python",
   "name": "python",
   "nbconvert_exporter": "python",
   "pygments_lexer": "ipython3",
   "version": "3.11.9"
  }
 },
 "nbformat": 4,
 "nbformat_minor": 2
}
